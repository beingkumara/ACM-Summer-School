{
  "nbformat": 4,
  "nbformat_minor": 0,
  "metadata": {
    "colab": {
      "provenance": []
    },
    "kernelspec": {
      "name": "python3",
      "display_name": "Python 3"
    },
    "language_info": {
      "name": "python"
    }
  },
  "cells": [
    {
      "cell_type": "markdown",
      "source": [
        "**Question 1**"
      ],
      "metadata": {
        "id": "TYCKtbKzbw41"
      }
    },
    {
      "cell_type": "code",
      "execution_count": null,
      "metadata": {
        "id": "drech89D9Mip"
      },
      "outputs": [],
      "source": [
        "class Layers:\n",
        "\n",
        "    def __init__(self, activation_function_forward, activation_function_backward, count_output_neuron, no_of_inputs, seed):\n",
        "        self.activation_function_forward = activation_function_forward      # the forward activation function\n",
        "        self.activation_function_backward = activation_function_backward    # the corresponding backward activation function\n",
        "        self.count_output_neuron = count_output_neuron                  # taking the number of output neurons as a paramter\n",
        "        self.no_of_inputs = no_of_inputs                                # taking the number of inputs for a given layer\n",
        "        #self.X_train = X_train                                          # Training data X\n",
        "        self.seed = seed                                        # seed parameter\n",
        "        np.random.rand(seed)    # seed is used to maintain the same set of random values generated elsewhere in the class\n",
        "\n",
        "\n",
        "        self.W = np.random.rand(no_of_inputs, count_output_neuron)\n",
        "        self.bias = np.random.rand(count_output_neuron)\n",
        "\n",
        "\n",
        "    def updateWeightGradient(self, dW, alpha):      # updating weights of the current layer to pass for the next layer\n",
        "        self.W = self.W - alpha * dW\n",
        "\n",
        "    def updateBiasGradient(self, dbias, alpha):     # updating bias of the current layer to pass for the next layer\n",
        "        self.bias = self.bias - alpha * dbias\n",
        "\n",
        "\n",
        "    # activate function which takes X as input and returns after activation function is called on (WX + B) matrix\n",
        "    def activate(self, curr_input):\n",
        "        self.curr_input = curr_input\n",
        "        N = np.matmul(curr_input, self.W)\n",
        "        P = N + self.bias\n",
        "\n",
        "        self.curr_output = self.activation_function_forward(P)\n",
        "        return self.curr_output"
      ]
    },
    {
      "cell_type": "code",
      "source": [
        "class NeuralNetwork:\n",
        "    def __init__(self, list_of_layers, loss, seed):\n",
        "        self.list_of_layers = list_of_layers        # list of layers objects\n",
        "        self.loss = loss                # loss object\n",
        "        self.seed = seed\n",
        "        np.random.seed(seed)\n",
        "\n",
        "\n",
        "    # In the forward pass of neural network, we pass through all the layers such that output of current layer is the input for the next layer.\n",
        "    # Finally, we return the output of the last layer\n",
        "    def forward(self, X):\n",
        "        curr_input = X\n",
        "        for curr_layer in self.list_of_layers:\n",
        "            next_input = curr_layer.activate(curr_input)\n",
        "            curr_input = next_input\n",
        "\n",
        "        output = curr_input\n",
        "\n",
        "        output = np.array(output)\n",
        "        return output\n",
        "\n",
        "    # In the backward pass, we calcuate the error generated and also reverse traverse the layers and calculate the effect of loss w.r.t input X\n",
        "    def backward(self, X, y_true, alpha):\n",
        "        output = self.forward(X)\n",
        "\n",
        "        error = self.loss.lossLayer_forward(output, y_true)   # calculating loss in forward pass\n",
        "        dL_dA = self.loss.lossLayer_backward(output, y_true)    # calculating loss in backward pass\n",
        "\n",
        "        weights = []    # store the weights of each layer so as to calculate optimal weights\n",
        "        bias = []       # store the bias of each layer so as to calculate optimal bias\n",
        "\n",
        "        for curr_layer in reversed(self.list_of_layers):\n",
        "\n",
        "            dL_dP = curr_layer.activation_function_backward(curr_layer.curr_output, dL_dA)\n",
        "\n",
        "            curr_layer.curr_input = np.array(curr_layer.curr_input)\n",
        "\n",
        "            dW = np.matmul(curr_layer.curr_input.T, dL_dP)  # taking transpose\n",
        "            dbias = np.sum(dL_dP)\n",
        "\n",
        "            weights.append(curr_layer.W)\n",
        "            bias.append(curr_layer.bias)\n",
        "\n",
        "            curr_layer.updateWeightGradient(dW, alpha)\n",
        "            curr_layer.updateBiasGradient(dbias, alpha)\n",
        "\n",
        "            dL_dX = np.matmul(dL_dP, curr_layer.W.T)\n",
        "            dL_dA = dL_dX\n",
        "\n",
        "\n",
        "        return error,bias,weights\n",
        "\n",
        "    # In this fucntion, we perform the entire procedure for several number of iterations and finally return error, weights, bias\n",
        "    def SGD(self, X_train, y_train, X_test, y_test, loss):  # Stochastic Gradient Descent Algorithm\n",
        "        arr = []\n",
        "        iter = 10000\n",
        "        graph_X = []\n",
        "        graph_Y = []\n",
        "        for i in range(iter):\n",
        "            temp = []\n",
        "            error,bias,weights = self.backward(X_train, Y_train, 0.001)\n",
        "            #print('Error = ',error)\n",
        "            temp.append(error)\n",
        "            temp.append(bias)\n",
        "            temp.append(weights)\n",
        "            arr.append(temp)\n",
        "            graph_X.append(i)\n",
        "            graph_Y.append(error)\n",
        "            if i % 1000 == 0:\n",
        "\n",
        "                print(f'Error at iteration {i}: {error}')\n",
        "\n",
        "        # Evaluate\n",
        "\n",
        "        return arr,graph_X,graph_Y"
      ],
      "metadata": {
        "id": "yW0mAG5mcESF"
      },
      "execution_count": null,
      "outputs": []
    },
    {
      "cell_type": "code",
      "source": [
        "# This is mean square error class that calculates error in both forward and backward passes\n",
        "class mean_square_error:\n",
        "\n",
        "    def lossLayer_forward(self,P,Y):\n",
        "        return np.mean((P - Y.reshape(-1, 1)) ** 2)\n",
        "\n",
        "    def lossLayer_backward(self,P,Y): #sizes of both P and Y  = nx1\n",
        "\n",
        "        nSamples = len(Y)\n",
        "        dL_dA = np.zeros((nSamples,1))\n",
        "        for i in range(nSamples):\n",
        "            dL_dA[i][0] = (2*(P[i][0] - Y[i])) / nSamples\n",
        "\n",
        "        return dL_dA  # returning dL/dP\n",
        "\n",
        "        #return P-Y"
      ],
      "metadata": {
        "id": "fJmkY49edKrI"
      },
      "execution_count": null,
      "outputs": []
    },
    {
      "cell_type": "code",
      "source": [
        "class cross_entropy_loss:\n",
        "    def lossLayer_forward(self,P,Y):\n",
        "        P = np.exp(P)\n",
        "        P /= np.sum(P, axis=-1, keepdims=True)\n",
        "        loss = -np.sum(Y * np.log(P))\n",
        "        return loss\n",
        "\n",
        "    def lossLayer_backward(self,P,Y):    #sizes of both P and Y  = nxc\n",
        "        P = np.exp(P)\n",
        "        #output -= np.max(output, axis=-1, keepdims=True)[0][0]\n",
        "        P /= np.sum(P, axis=-1, keepdims=True)\n",
        "        return P - Y"
      ],
      "metadata": {
        "id": "ae6yKmgKUCaL"
      },
      "execution_count": null,
      "outputs": []
    },
    {
      "cell_type": "code",
      "source": [
        "# Implementations of several activation functions in both forward and backward passes\n",
        "\n",
        "def linear_forward(P):\n",
        "    return P\n",
        "\n",
        "def linear_backward(P, dL_dA):\n",
        "    shape = P.shape\n",
        "    return dL_dA * np.ones(shape)\n",
        "\n",
        "\n",
        "def sigmoid_forward(x):\n",
        "        ans = 1 / (1 + np.exp(-x))\n",
        "        return ans\n",
        "\n",
        "def sigmoidLayer_forward(P):\n",
        "    ans=[]\n",
        "    for i in P:\n",
        "        new = sigmoid_forward(i)\n",
        "        ans.append(new)\n",
        "    return ans\n",
        "\n",
        "def sigmoidLayer_backward(P, dL_dA):\n",
        "        dL_dP = []\n",
        "        index = 0\n",
        "        for i in P:\n",
        "            new = sigmoid_forward(i)\n",
        "            dL_dP.append(dL_dA[index] * (new * (1 - new)))  # dL/dP = dL/dA * sigmoid(P) * (1 - sigmoid(P))\n",
        "            index += 1\n",
        "        dL_dP = np.array(dL_dP)\n",
        "        return dL_dP\n",
        "\n",
        "\n",
        "\n",
        "def tanhLayer_forward(P):\n",
        "    return np.tanh(P)\n",
        "    '''\n",
        "    ans=[]\n",
        "    for i in P:\n",
        "        new = tanh_forward(i)\n",
        "        ans.append(new)\n",
        "    return ans\n",
        "    '''\n",
        "\n",
        "def tanhLayer_backward(P, dL_dA):\n",
        "    return dL_dA * (1 - np.tanh(P) ** 2)\n",
        "\n",
        "    '''\n",
        "    dL_dP = []\n",
        "    index = 0\n",
        "    for i in P:\n",
        "        new = tanh_forward(2*i)  # i don't think this is correct\n",
        "        dL_dP.append(dL_dA[index] * 4 * (1 - new))\n",
        "        index += 1\n",
        "    dL_dP = np.array(dL_dP)\n",
        "    return dL_dP\n",
        "    '''"
      ],
      "metadata": {
        "id": "mSFcmPxff6xq"
      },
      "execution_count": null,
      "outputs": []
    },
    {
      "cell_type": "code",
      "source": [
        "# Calculating the accuracy of the model\n",
        "\n",
        "\n",
        "def test_model(list_of_layers, X_test, Y_test, threshold):\n",
        "    accuracy = 0\n",
        "    curr_X = X_test\n",
        "\n",
        "    for i in range(len(Y_test)):\n",
        "        N = np.matmul(curr_X[i], opt_weights[0])\n",
        "        P = N + opt_bias[0]\n",
        "        for j in range(len(list_of_layers)):\n",
        "            output = list_of_layers[j].activation_function_forward(P)\n",
        "            P = output\n",
        "\n",
        "        if(abs(output[0] - Y_test[i]) <= threshold):\n",
        "            accuracy += 1\n",
        "\n",
        "    print(\"Accuracy =\",100.0*accuracy/len(Y_test), \"%\")"
      ],
      "metadata": {
        "id": "ik2vVUW3wa3D"
      },
      "execution_count": null,
      "outputs": []
    },
    {
      "cell_type": "markdown",
      "source": [
        "**QUESTION 2**"
      ],
      "metadata": {
        "id": "BnSZ-2BGYrWw"
      }
    },
    {
      "cell_type": "code",
      "source": [
        "import numpy as np\n",
        "import pandas as pd\n",
        "import matplotlib.pyplot as plt\n",
        "\n",
        "# Loading boston dataset\n",
        "from sklearn import datasets\n",
        "from sklearn.model_selection import train_test_split\n",
        "boston = datasets.load_boston()"
      ],
      "metadata": {
        "id": "WCK9x7Erej4d",
        "colab": {
          "base_uri": "https://localhost:8080/"
        },
        "outputId": "c0a5d566-0241-4f25-8892-44b6a734d234"
      },
      "execution_count": null,
      "outputs": [
        {
          "output_type": "stream",
          "name": "stderr",
          "text": [
            "/usr/local/lib/python3.8/dist-packages/sklearn/utils/deprecation.py:87: FutureWarning: Function load_boston is deprecated; `load_boston` is deprecated in 1.0 and will be removed in 1.2.\n",
            "\n",
            "    The Boston housing prices dataset has an ethical problem. You can refer to\n",
            "    the documentation of this function for further details.\n",
            "\n",
            "    The scikit-learn maintainers therefore strongly discourage the use of this\n",
            "    dataset unless the purpose of the code is to study and educate about\n",
            "    ethical issues in data science and machine learning.\n",
            "\n",
            "    In this special case, you can fetch the dataset from the original\n",
            "    source::\n",
            "\n",
            "        import pandas as pd\n",
            "        import numpy as np\n",
            "\n",
            "\n",
            "        data_url = \"http://lib.stat.cmu.edu/datasets/boston\"\n",
            "        raw_df = pd.read_csv(data_url, sep=\"\\s+\", skiprows=22, header=None)\n",
            "        data = np.hstack([raw_df.values[::2, :], raw_df.values[1::2, :2]])\n",
            "        target = raw_df.values[1::2, 2]\n",
            "\n",
            "    Alternative datasets include the California housing dataset (i.e.\n",
            "    :func:`~sklearn.datasets.fetch_california_housing`) and the Ames housing\n",
            "    dataset. You can load the datasets as follows::\n",
            "\n",
            "        from sklearn.datasets import fetch_california_housing\n",
            "        housing = fetch_california_housing()\n",
            "\n",
            "    for the California housing dataset and::\n",
            "\n",
            "        from sklearn.datasets import fetch_openml\n",
            "        housing = fetch_openml(name=\"house_prices\", as_frame=True)\n",
            "\n",
            "    for the Ames housing dataset.\n",
            "    \n",
            "  warnings.warn(msg, category=FutureWarning)\n"
          ]
        }
      ]
    },
    {
      "cell_type": "code",
      "source": [
        "X = boston.data\n",
        "print(X.shape)\n",
        "\n",
        "Y = boston.target\n",
        "print(Y.shape)"
      ],
      "metadata": {
        "colab": {
          "base_uri": "https://localhost:8080/"
        },
        "id": "uG8ga-GWe0ue",
        "outputId": "23ac92e8-1286-42af-91d6-9fbecaacf10e"
      },
      "execution_count": null,
      "outputs": [
        {
          "output_type": "stream",
          "name": "stdout",
          "text": [
            "(506, 13)\n",
            "(506,)\n"
          ]
        }
      ]
    },
    {
      "cell_type": "markdown",
      "source": [
        "**QUESTION 2 PART 1**\n",
        "\n",
        "Just one output neural with linear activation and least mean square loss.\n",
        "(This is linear regression)."
      ],
      "metadata": {
        "id": "m-rU5KrgahZJ"
      }
    },
    {
      "cell_type": "code",
      "source": [
        "# Normalizing the data\n",
        "X = (X - np.mean(X, axis = 0)) / (np.std(X, axis = 0))\n",
        "Y = (Y - np.mean(Y, axis = 0)) / (np.std(Y, axis = 0))\n",
        "\n",
        "# Spliting the data with 85% into training and 15% into testing\n",
        "X_train, X_test, Y_train, Y_test = train_test_split(X, Y, test_size=0.15, random_state = 30)\n",
        "\n",
        "#print(Y_test.shape)\n",
        "seed = 21\n",
        "\n",
        "layer1 = Layers(linear_forward, linear_backward, 1, X_train.shape[1], seed)   # creating layers object\n",
        "list_of_layers = [layer1]   # creating layers list\n",
        "\n",
        "loss_obj = mean_square_error()  # creating loss object\n",
        "\n",
        "NN_obj = NeuralNetwork(list_of_layers, loss_obj, seed)  # creating neural networks object\n",
        "\n",
        "\n",
        "J, graph_X, graph_Y = NN_obj.SGD(X_train, Y_train, X_test, Y_test, loss_obj)    # calling SGD function in NeuralNetwork class\n",
        "min_error = 1000000000\n",
        "\n",
        "# Calculating the min error among the total samples\n",
        "for i in range(len(J)):\n",
        "    if(J[i][0] <= min_error):\n",
        "      #optimum\n",
        "        opt_weights = J[i][2]\n",
        "        opt_bias = J[i][1]\n",
        "        min_error = J[i][0]\n",
        "\n",
        "print(\"min error = \",min_error)\n",
        "\n",
        "Y_pred = NN_obj.forward(X_test)\n",
        "mean_sqr_error = loss_obj.lossLayer_forward(Y_test, Y_pred)\n",
        "print(\"Mean Squared Error:\", mean_sqr_error)\n",
        "\n",
        "plt.plot(graph_X, graph_Y)\n",
        "plt.xlabel(\"Epoch\")\n",
        "plt.ylabel(\"Error\")\n",
        "plt.show()\n"
      ],
      "metadata": {
        "id": "NRQB912PfBVs",
        "colab": {
          "base_uri": "https://localhost:8080/",
          "height": 495
        },
        "outputId": "49917f71-5fb1-49d3-db0f-d8398874bfb3"
      },
      "execution_count": null,
      "outputs": [
        {
          "output_type": "stream",
          "name": "stdout",
          "text": [
            "Error at iteration 0: 10.13030976718537\n",
            "Error at iteration 1000: 0.6831179150764478\n",
            "Error at iteration 2000: 0.42265106389689916\n",
            "Error at iteration 3000: 0.33660052217330694\n",
            "Error at iteration 4000: 0.30132991429159084\n",
            "Error at iteration 5000: 0.2852454649610842\n",
            "Error at iteration 6000: 0.2774823855151011\n",
            "Error at iteration 7000: 0.273613350344865\n",
            "Error at iteration 8000: 0.27164319672493675\n",
            "Error at iteration 9000: 0.2706213954707267\n",
            "min error =  0.2700814792337928\n",
            "Mean Squared Error: 1.4480044888679628\n"
          ]
        },
        {
          "output_type": "display_data",
          "data": {
            "text/plain": [
              "<Figure size 432x288 with 1 Axes>"
            ],
            "image/png": "[encoded data removed]"
          },
          "metadata": {
            "needs_background": "light"
          }
        }
      ]
    },
    {
      "cell_type": "code",
      "source": [
        "from sklearn.metrics import r2_score\n",
        "y_pred = NN_obj.forward(X_test)\n",
        "r_squared = r2_score(Y_test, y_pred)\n",
        "print(f'R-squared value: {r_squared}')\n"
      ],
      "metadata": {
        "colab": {
          "base_uri": "https://localhost:8080/"
        },
        "id": "mezW-Cnf-t5R",
        "outputId": "f1e970c2-b8cd-45a7-fe70-a87c71fa26b9"
      },
      "execution_count": null,
      "outputs": [
        {
          "output_type": "stream",
          "name": "stdout",
          "text": [
            "R-squared value: 0.7511781956903447\n"
          ]
        }
      ]
    },
    {
      "cell_type": "code",
      "source": [
        "# Testing the accuracy of the model\n",
        "test_model(list_of_layers, X_test, Y_test, 1)"
      ],
      "metadata": {
        "id": "yeTpcMAop1wQ",
        "colab": {
          "base_uri": "https://localhost:8080/"
        },
        "outputId": "f510e8bc-a0cf-48d6-dbef-3a5b47fb9b31"
      },
      "execution_count": null,
      "outputs": [
        {
          "output_type": "stream",
          "name": "stdout",
          "text": [
            "Accuracy = 96.05263157894737 %\n"
          ]
        }
      ]
    },
    {
      "cell_type": "markdown",
      "source": [
        "**QUESTION2 PART 2**\n",
        "\n",
        "Two layers. Layer 1 with 13 output neurons with sigmoid activation. Layer\n",
        "2 with one output neuron and linear activation. use mean squared loss"
      ],
      "metadata": {
        "id": "BcFEIB6naUay"
      }
    },
    {
      "cell_type": "code",
      "source": [
        "# Normalizing the data\n",
        "X = (X - np.mean(X, axis = 0)) / (np.std(X, axis = 0))\n",
        "Y = (Y - np.mean(Y, axis = 0)) / (np.std(Y, axis = 0))\n",
        "\n",
        "# Spliting the data with 85% into training and 15% into testing\n",
        "X_train, X_test, Y_train, Y_test = train_test_split(X, Y, test_size=0.15, random_state = 30)\n",
        "\n",
        "#print(Y_test.shape)\n",
        "seed = 21\n",
        "\n",
        "layer1 = Layers(sigmoidLayer_forward, sigmoidLayer_backward, 13, X_train.shape[1], seed)   # creating layers object\n",
        "layer2 = Layers(linear_forward, linear_backward, 1, 13, seed)   # creating layers object\n",
        "list_of_layers = [layer1, layer2]   # creating layers list\n",
        "\n",
        "loss_obj = mean_square_error()  # creating loss object\n",
        "\n",
        "NN_obj = NeuralNetwork(list_of_layers, loss_obj, seed)  # creating neural networks object\n",
        "\n",
        "\n",
        "J, graph_X, graph_Y = NN_obj.SGD(X_train, Y_train, X_test, Y_test, loss_obj)    # calling SGD function in NeuralNetwork class\n",
        "min_error = 1000000000\n",
        "\n",
        "# Calculating the min error among the total samples\n",
        "for i in range(len(J)):\n",
        "    if(J[i][0] <= min_error):\n",
        "      #optimum\n",
        "        opt_weights = J[i][2]\n",
        "        opt_bias = J[i][1]\n",
        "        min_error = J[i][0]\n",
        "\n",
        "print(\"min error = \",min_error)\n",
        "\n",
        "Y_pred = NN_obj.forward(X_test)\n",
        "mean_sqr_error = loss_obj.lossLayer_forward(Y_test, Y_pred)\n",
        "print(\"Mean Squared Error:\", mean_sqr_error)\n",
        "\n",
        "plt.plot(graph_X, graph_Y)\n",
        "plt.xlabel(\"Epoch\")\n",
        "plt.ylabel(\"Error\")\n",
        "plt.show()\n"
      ],
      "metadata": {
        "id": "rj1dUcM2sLSj",
        "colab": {
          "base_uri": "https://localhost:8080/",
          "height": 498
        },
        "outputId": "889f50fc-6c8d-44c5-bb2f-1216329b4738"
      },
      "execution_count": null,
      "outputs": [
        {
          "output_type": "stream",
          "name": "stdout",
          "text": [
            "Error at iteration 0: 19.192542281898852\n",
            "Error at iteration 1000: 0.667220512622075\n",
            "Error at iteration 2000: 0.5289118895788787\n",
            "Error at iteration 3000: 0.4757058631120525\n",
            "Error at iteration 4000: 0.44124129075149937\n",
            "Error at iteration 5000: 0.4161197397874516\n",
            "Error at iteration 6000: 0.39786626498885447\n",
            "Error at iteration 7000: 0.38475103108891456\n",
            "Error at iteration 8000: 0.37533036722138063\n",
            "Error at iteration 9000: 0.3684693433637104\n",
            "min error =  0.3633431106438133\n",
            "Mean Squared Error: 1.4322673216107624\n"
          ]
        },
        {
          "output_type": "display_data",
          "data": {
            "text/plain": [
              "<Figure size 432x288 with 1 Axes>"
            ],
            "image/png": "[encoded data removed]"
          },
          "metadata": {
            "needs_background": "light"
          }
        }
      ]
    },
    {
      "cell_type": "code",
      "source": [
        "# Testing the accuracy of the model\n",
        "test_model(list_of_layers, X_test, Y_test, 2)"
      ],
      "metadata": {
        "id": "DKHWto28tHtV",
        "colab": {
          "base_uri": "https://localhost:8080/"
        },
        "outputId": "a46a694e-3e47-4c01-e652-69a1371ceb38"
      },
      "execution_count": null,
      "outputs": [
        {
          "output_type": "stream",
          "name": "stdout",
          "text": [
            "Accuracy = 93.42105263157895 %\n"
          ]
        }
      ]
    },
    {
      "cell_type": "markdown",
      "source": [
        "**Question-2 part 3**\n",
        "\n",
        "Three layers. Layer 1 with 13 output neurons with sigmoid activation.\n",
        "Layer 2 with 13 output neurons and sigmoid activation. Layer 3 with one\n",
        "output neuron and linear activation. use mean squared loss"
      ],
      "metadata": {
        "id": "R-q0i97N7Fqp"
      }
    },
    {
      "cell_type": "code",
      "source": [
        "# Normalizing the data\n",
        "X = (X - np.mean(X, axis = 0)) / (np.std(X, axis = 0))\n",
        "Y = (Y - np.mean(Y, axis = 0)) / (np.std(Y, axis = 0))\n",
        "\n",
        "# Spliting the data with 85% into training and 15% into testing\n",
        "X_train, X_test, Y_train, Y_test = train_test_split(X, Y, test_size=0.15, random_state = 30)\n",
        "\n",
        "#print(Y_test.shape)\n",
        "seed = 21\n",
        "\n",
        "layer1 = Layers(sigmoidLayer_forward, sigmoidLayer_backward, 13, X_train.shape[1], seed)   # creating layers object\n",
        "layer2 = Layers(sigmoidLayer_forward, sigmoidLayer_backward, 13, 13, seed)   # creating layers object\n",
        "layer3 = Layers(linear_forward, linear_backward, 1, 13, seed)   # creating layers object\n",
        "list_of_layers = [layer1, layer2, layer3]\n",
        "\n",
        "loss_obj = mean_square_error()  # creating loss object\n",
        "\n",
        "NN_obj = NeuralNetwork(list_of_layers, loss_obj, seed)  # creating neural networks object\n",
        "\n",
        "\n",
        "J, graph_X, graph_Y = NN_obj.SGD(X_train, Y_train, X_test, Y_test, loss_obj)    # calling SGD function in NeuralNetwork class\n",
        "min_error = 1000000000\n",
        "\n",
        "# Calculating the min error among the total samples\n",
        "for i in range(len(J)):\n",
        "    if(J[i][0] <= min_error):\n",
        "        opt_weights = J[i][2]\n",
        "        opt_bias = J[i][1]\n",
        "        min_error = J[i][0]\n",
        "\n",
        "print(\"min error = \",min_error)\n",
        "\n",
        "Y_pred = NN_obj.forward(X_test)\n",
        "mean_sqr_error = loss_obj.lossLayer_forward(Y_test, Y_pred)\n",
        "print(\"Mean Squared Error:\", mean_sqr_error)\n",
        "\n",
        "plt.plot(graph_X, graph_Y)\n",
        "plt.xlabel(\"Epoch\")\n",
        "plt.ylabel(\"Error\")\n",
        "plt.show()\n"
      ],
      "metadata": {
        "id": "Pw_2yf4u01_E",
        "colab": {
          "base_uri": "https://localhost:8080/",
          "height": 496
        },
        "outputId": "647701dd-51a9-4746-9fc7-6467feaf4fb1"
      },
      "execution_count": null,
      "outputs": [
        {
          "output_type": "stream",
          "name": "stdout",
          "text": [
            "Error at iteration 0: 38.655545094843006\n",
            "Error at iteration 1000: 1.0419460211404066\n",
            "Error at iteration 2000: 1.0291700778398205\n",
            "Error at iteration 3000: 1.0171291034498247\n",
            "Error at iteration 4000: 1.0046394925732296\n",
            "Error at iteration 5000: 0.9906540040473494\n",
            "Error at iteration 6000: 0.9741677512733167\n",
            "Error at iteration 7000: 0.9541842475456916\n",
            "Error at iteration 8000: 0.9297447836229984\n",
            "Error at iteration 9000: 0.8999911959842617\n",
            "min error =  0.8641742166716717\n",
            "Mean Squared Error: 0.8547307310132798\n"
          ]
        },
        {
          "output_type": "display_data",
          "data": {
            "text/plain": [
              "<Figure size 432x288 with 1 Axes>"
            ],
            "image/png": "[encoded data removed]"
          },
          "metadata": {
            "needs_background": "light"
          }
        }
      ]
    },
    {
      "cell_type": "code",
      "source": [
        "# Testing the accuracy of the model\n",
        "test_model(list_of_layers, X_test, Y_test, 2)"
      ],
      "metadata": {
        "id": "pVnuFDLWTwmX",
        "colab": {
          "base_uri": "https://localhost:8080/"
        },
        "outputId": "d0f96a48-00aa-44ba-8735-a081dd4ce980"
      },
      "execution_count": null,
      "outputs": [
        {
          "output_type": "stream",
          "name": "stdout",
          "text": [
            "Accuracy = 96.05263157894737 %\n"
          ]
        }
      ]
    }
  ]
}