{
 "cells": [
  {
   "cell_type": "code",
   "execution_count": 102,
   "id": "7d44d42a-6fb2-4102-80db-bee90a4f2a90",
   "metadata": {},
   "outputs": [],
   "source": [
    "import numpy as np\n",
    "import pandas as pd\n",
    "import matplotlib.pyplot as plt\n",
    "from scipy.stats import binom\n",
    "from scipy import stats\n"
   ]
  },
  {
   "cell_type": "code",
   "execution_count": 103,
   "id": "fc2fe63f-35a6-42f0-abb8-3f637baa7997",
   "metadata": {},
   "outputs": [],
   "source": [
    "#defining a function to create a normal random variable\n",
    "def normalPDF(x,mean,variance):\n",
    "  denominator = np.sqrt((2 * np.pi))*np.sqrt(variance)\n",
    "  numerator = np.exp(-0.5 * ((x-mean)**2) / variance)\n",
    "  pdf = numerator / denominator\n",
    "  return pdf"
   ]
  },
  {
   "cell_type": "markdown",
   "id": "7870f89d-19bd-4055-a7ac-85160d142a37",
   "metadata": {},
   "source": [
    "Data for Bayes Classifier"
   ]
  },
  {
   "cell_type": "code",
   "execution_count": 115,
   "id": "9f172e46-7eb5-43b7-89e9-0a29c1ef7401",
   "metadata": {},
   "outputs": [],
   "source": [
    "N = 10000\n",
    "#p0 = 0.95 => p1 (probability of success) = 0.05\n",
    "y  = binom.rvs(n=1, p=0.05, size=N)\n",
    "x = []\n",
    "means = [0,1]\n",
    "variance = [1,1]\n",
    "dataset={}"
   ]
  },
  {
   "cell_type": "code",
   "execution_count": 116,
   "id": "b9c02cd4-a11f-46bd-a4b8-c7929a84d7c7",
   "metadata": {},
   "outputs": [],
   "source": [
    "for i in range(N):\n",
    "    temp_x = 0\n",
    "    if(y[i] == 0):\n",
    "        temp_x = np.random.normal(means[0], variance[0])\n",
    "    else:\n",
    "        temp_x = np.random.normal(means[1],variance[1])\n",
    "    dataset[temp_x] = y[i]\n",
    "    x.append(temp_x)"
   ]
  },
  {
   "cell_type": "code",
   "execution_count": 106,
   "id": "44a532d2-549e-4e6b-823d-d77ea96cfea8",
   "metadata": {},
   "outputs": [],
   "source": [
    "#creating the bayes classifier to get the posteriors\n",
    "def bayesClassifier(x):\n",
    " \n",
    "  priors = [0.95,0.05]\n",
    "  priors = np.array(priors)\n",
    "  f_0x = normalPDF(x,0,1)\n",
    "  f_1x = normalPDF(x,1,1)\n",
    "  f_x = [f_0x,f_1x]\n",
    "  f_x = np.array(f_x)\n",
    "  posteriors = np.zeros(priors.shape)\n",
    "  total=0\n",
    "  for i in range(2):\n",
    "    total = priors[i] * f_x[i]\n",
    "\n",
    "  for i in range(2):\n",
    "    posteriors[i] = (priors[i] * f_x[i]) / (total + 1e-4)\n",
    "\n",
    "  return posteriors"
   ]
  },
  {
   "cell_type": "markdown",
   "id": "ac4954b9-f550-40c0-9f91-57673fdf1a04",
   "metadata": {},
   "source": [
    "Calculating the following metrics"
   ]
  },
  {
   "cell_type": "code",
   "execution_count": 107,
   "id": "6884fbc7-579f-4c07-8928-e2577860be9f",
   "metadata": {},
   "outputs": [
    {
     "name": "stdout",
     "output_type": "stream",
     "text": [
      "True Positives:  9484\n",
      "False Positives:  5\n",
      "ACCURACY:  0.9487\n",
      "CONFUSION MATRIX:  [[9484, 5], [508, 3]]\n"
     ]
    }
   ],
   "source": [
    "\n",
    "truePositives=0\n",
    "falsePositives = 0\n",
    "trueNegatives = 0\n",
    "falseNegatives = 0\n",
    "classifications=[]\n",
    "for inputs , labels in dataset.items():\n",
    "    posteriors = bayesClassifier(inputs)\n",
    "    q0 = posteriors[0]\n",
    "    q1 = posteriors[1]\n",
    "    if(q0>=q1):\n",
    "        classifications.append(0)\n",
    "        if(labels == 0):\n",
    "            truePositives += 1\n",
    "        else:\n",
    "            falseNegatives += 1\n",
    "    else:\n",
    "        classifications.append(1)\n",
    "        if(labels == 1):\n",
    "            falsePositives += 1\n",
    "        else:\n",
    "            trueNegatives += 1\n",
    "    \n",
    "\n",
    "print('True Positives: ',truePositives)\n",
    "print('False Positives: ',falsePositives)\n",
    "accuracy = (truePositives + trueNegatives) / (trueNegatives + falseNegatives + truePositives + falsePositives)\n",
    "\n",
    "confusionMatrix = [[truePositives, falsePositives],[falseNegatives, trueNegatives]]\n",
    "print('ACCURACY: ',accuracy)\n",
    "print('CONFUSION MATRIX: ',confusionMatrix)\n"
   ]
  },
  {
   "cell_type": "markdown",
   "id": "8535532d-105f-4e5a-be3a-ed65538d36db",
   "metadata": {},
   "source": [
    "NEYMAN PEARSON CLASSFIER"
   ]
  },
  {
   "cell_type": "code",
   "execution_count": 117,
   "id": "8c465b63-baf4-49a0-bf79-c44dc9f5e41b",
   "metadata": {},
   "outputs": [],
   "source": [
    "#function to define likelihood ratio\n",
    "def likelihoodRatio(x,means=[0,1],variance=[1,1]):\n",
    "  f1 = normalPDF(x,means[1],variance[1])\n",
    "  f0 = normalPDF(x,means[0],variance[0])\n",
    "  ans = f1/f0\n",
    "  return ans"
   ]
  },
  {
   "cell_type": "code",
   "execution_count": 118,
   "id": "d3b6c24b-4763-4a7b-9c9d-0e0dcc66c581",
   "metadata": {},
   "outputs": [],
   "source": [
    "#function to calculate the threshold values\n",
    "def kvalue(alpha):\n",
    "    phi = stats.norm(means[1],variance[1]).ppf(alpha)\n",
    "    ln_k = ((means[1]-means[0])/variance[0])*phi-(((means[1]-means[0])**2)/2*variance[1]*variance[1])\n",
    "    k = np.exp(ln_k)\n",
    "    return k"
   ]
  },
  {
   "cell_type": "code",
   "execution_count": 119,
   "id": "968c3023-6c9c-40c7-831a-2794a418e60c",
   "metadata": {},
   "outputs": [],
   "source": [
    " #Neyman Pearson Classifier\n",
    "def npClassifier(x,y,threshold):\n",
    "    predictions=0\n",
    "    lhd = likelihoodRatio(x)\n",
    "    if(lhd > threshold):\n",
    "        predictions=1\n",
    "    else:\n",
    "        predictions=0\n",
    "    return predictions"
   ]
  },
  {
   "cell_type": "code",
   "execution_count": 120,
   "id": "f514303b-3490-4643-b40d-9ebe4f437674",
   "metadata": {},
   "outputs": [],
   "source": [
    "\n",
    "#function to calculate the metrics of the Neyman Pearson Classifier\n",
    "def calulateMetrics(npcPredicitions , actualY):\n",
    "    tp = 0\n",
    "    fp = 0\n",
    "    tn = 0\n",
    "    fn = 0\n",
    "    for i in range(len(actualY)):\n",
    "        if(actualY[i] == 0 and npcPredictions[i] == 0):\n",
    "            tp+=1\n",
    "        elif(actualY[i] == 1 and npcPredictions[i] == 0):\n",
    "            fp += 1\n",
    "        elif(actualY[i] == 1 and npcPredictions[i] == 1):\n",
    "            tn += 1\n",
    "        else:\n",
    "            fn += 1\n",
    "    return tp , tn , fp , fn"
   ]
  },
  {
   "cell_type": "code",
   "execution_count": 121,
   "id": "88530bdd-a128-4379-a94b-6f84fded877f",
   "metadata": {},
   "outputs": [],
   "source": [
    "p = [0.95,0.05]\n",
    "means = [0,1]\n",
    "variance = [1,1]\n",
    "alpha = 0.05\n",
    "threshold = kvalue(alpha)"
   ]
  },
  {
   "cell_type": "code",
   "execution_count": 122,
   "id": "e227dc86-2cc8-4418-b532-3a454b29b576",
   "metadata": {},
   "outputs": [
    {
     "name": "stdout",
     "output_type": "stream",
     "text": [
      "0.9277\n"
     ]
    }
   ],
   "source": [
    "err1 = 0.8\n",
    "threshold = kvalue(err1)\n",
    "npcPredictions = []\n",
    "correct=0\n",
    "for i in range(len(x)):\n",
    "    npcPredictions.append(npClassifier(x[i],y,threshold))\n",
    "tp , tn , fp , fn = calulateMetrics(npcPredictions , y)\n",
    "\n",
    "# npcPredictions = np.array(npcPredictions)\n",
    "# print(npcPredictions)\n",
    "for i in range(len(y)):\n",
    "    if(y[i] == npcPredictions[i]):\n",
    "       correct+=1\n",
    "accuracy = correct / N\n",
    "print(accuracy)\n"
   ]
  },
  {
   "cell_type": "markdown",
   "id": "9aab6e27-3443-4769-b6fb-942eac759b02",
   "metadata": {},
   "source": [
    "Receiver Operating Characteristic Curve "
   ]
  },
  {
   "cell_type": "code",
   "execution_count": 128,
   "id": "724fabcd-dded-42c6-b20a-f47360b7d12a",
   "metadata": {},
   "outputs": [
    {
     "data": {
      "image/png": "[encoded data removed]",
      "text/plain": [
       "<Figure size 640x480 with 1 Axes>"
      ]
     },
     "metadata": {},
     "output_type": "display_data"
    }
   ],
   "source": [
    "import numpy as np\n",
    "from scipy.stats import norm\n",
    "import matplotlib.pyplot as plt\n",
    "\n",
    "# generating some data\n",
    "X0 = np.random.normal(loc=0, scale=1, size=1000) #data for class 0\n",
    "X1 = np.random.normal(loc=1, scale=1, size=1000) # data for class 1\n",
    "X = np.concatenate((X0, X1))\n",
    "y = np.concatenate((np.zeros(1000), np.ones(1000)))\n",
    "\n",
    "\n",
    "thresholds = np.linspace(0, 2, 2000)\n",
    "#generating 200 0 threshold values in between 0 and 2 with a common differenc eof 2/2000\n",
    "truePositiveRates = []\n",
    "falsePositiveRates = []\n",
    "for threshold in thresholds:\n",
    "    y_pred = likelihoodRatio(X) > threshold\n",
    "    TP = np.sum((y_pred == 1) & (y == 1))\n",
    "    FN = np.sum((y_pred == 0) & (y == 1))\n",
    "    FP = np.sum((y_pred == 1) & (y == 0))\n",
    "    TN = np.sum((y_pred == 0) & (y == 0))\n",
    "    truePositiveRate = TP / (TP + FN)\n",
    "    falsePositiveRate = FP / (FP + TN)\n",
    "    truePositiveRates.append(truePositiveRate)\n",
    "    falsePositiveRates.append(falsePositiveRate)\n",
    "\n",
    "# plot the ROC curve\n",
    "plt.plot(falsePositiveRates, truePositiveRates)\n",
    "plt.xlabel('False Positive Rate')\n",
    "plt.ylabel('True Positive Rate')\n",
    "plt.title('Receiver Operating Characteristic Curve')\n",
    "plt.show()\n"
   ]
  },
  {
   "cell_type": "code",
   "execution_count": 124,
   "id": "7c0c43f0-439e-4145-8620-99f0c6e9018d",
   "metadata": {},
   "outputs": [],
   "source": [
    "zeros = 0\n",
    "ones = 1\n",
    "for i in y:\n",
    "    if(i == 0):\n",
    "        zeros+=1\n",
    "    else:\n",
    "        ones+=1"
   ]
  },
  {
   "cell_type": "code",
   "execution_count": 125,
   "id": "d5d02537-748e-43dd-8fb5-e09ba3cdfe18",
   "metadata": {},
   "outputs": [],
   "source": [
    "def minMaxClassifier(x,means,variance,threshold,y):\n",
    "    y_predictions=[]\n",
    "    falsePositives = 0\n",
    "    falseNegatives = 0\n",
    "    for i in range(len(x)):\n",
    "        if(x[i] > threshold):\n",
    "            y_predictions.append(1)\n",
    "            if(y[i] == 0):\n",
    "                #predicting true but actually it is false\n",
    "                falsePositives += 1\n",
    "        else:\n",
    "            y_predictions.append(0)\n",
    "            #predicting false but actually it is true\n",
    "            if(y[i] == 1):\n",
    "                falseNegatives += 1\n",
    "\n",
    "    cdf1 = stats.norm(means[0],variance[0]).cdf(threshold)\n",
    "    cdf2 = 1 - stats.norm(means[1],variance[1]).cdf(threshold) \n",
    "    l_1_0 = falsePositives /zeros\n",
    "    l_0_1 = falseNegatives / ones\n",
    "    error = l_1_0 * cdf1 - l_0_1 * cdf2\n",
    "    return error\n",
    "    \n",
    "    \n",
    "        "
   ]
  },
  {
   "cell_type": "code",
   "execution_count": 126,
   "id": "aed3bba6-068c-4d72-a51d-421173826b3f",
   "metadata": {},
   "outputs": [],
   "source": [
    "errors = []\n",
    "for threshold in thresholds:\n",
    "    err = minMaxClassifier(X,means,variance,threshold,y)\n",
    "    error.append(abs(err))"
   ]
  },
  {
   "cell_type": "code",
   "execution_count": 127,
   "id": "4af157fd-eacf-4403-810f-31fac6fc8b1d",
   "metadata": {},
   "outputs": [
    {
     "name": "stdout",
     "output_type": "stream",
     "text": [
      "The threshold for which risk is independent of priors :  0.454\n"
     ]
    }
   ],
   "source": [
    "minThreshold = thresholds[minErros]\n",
    "print(\"The threshold for which risk is independent of priors : \",minThreshold)"
   ]
  },
  {
   "cell_type": "markdown",
   "id": "f8918375-d9ef-4bdf-a3b5-e1b42f0c1d88",
   "metadata": {},
   "source": []
  }
 ],
 "metadata": {
  "kernelspec": {
   "display_name": "Python 3 (ipykernel)",
   "language": "python",
   "name": "python3"
  },
  "language_info": {
   "codemirror_mode": {
    "name": "ipython",
    "version": 3
   },
   "file_extension": ".py",
   "mimetype": "text/x-python",
   "name": "python",
   "nbconvert_exporter": "python",
   "pygments_lexer": "ipython3",
   "version": "3.9.13"
  }
 },
 "nbformat": 4,
 "nbformat_minor": 5
}
